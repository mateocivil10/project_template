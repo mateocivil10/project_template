{
 "cells": [
  {
   "cell_type": "markdown",
   "id": "3ee9ef37",
   "metadata": {},
   "source": [
    "# Setup notebooks"
   ]
  },
  {
   "cell_type": "markdown",
   "id": "e05ae3c8",
   "metadata": {},
   "source": [
    "### General libraries"
   ]
  },
  {
   "cell_type": "code",
   "execution_count": null,
   "id": "97160c50",
   "metadata": {},
   "outputs": [],
   "source": [
    "import os\n",
    "import sys\n",
    "import numpy as np\n",
    "import pandas as pd\n",
    "\n",
    "from os.path import join\n",
    "\n",
    "pd.set_option(\"display.max_columns\", None)\n",
    "pd.options.display.float_format = '{:,.2f}'.format"
   ]
  },
  {
   "cell_type": "markdown",
   "id": "8042eea8",
   "metadata": {},
   "source": [
    "### Specific libraries"
   ]
  },
  {
   "cell_type": "code",
   "execution_count": null,
   "id": "03315641",
   "metadata": {},
   "outputs": [],
   "source": [
    "from src.example import parameters\n",
    "from src.example import config\n",
    "from src.example import load_data"
   ]
  },
  {
   "cell_type": "markdown",
   "id": "9f5c5eb8",
   "metadata": {},
   "source": [
    "### Logging"
   ]
  },
  {
   "cell_type": "code",
   "execution_count": null,
   "id": "d9760f76",
   "metadata": {},
   "outputs": [],
   "source": [
    "import logging\n",
    "\n",
    "logging.basicConfig(format='%(asctime)s - %(message)s', level=logging.INFO)\n",
    "logger = logging.getLogger(__name__)"
   ]
  },
  {
   "cell_type": "markdown",
   "id": "57602e70",
   "metadata": {},
   "source": [
    "### Load enviroment variables and adding to PYTHONPATH"
   ]
  },
  {
   "cell_type": "code",
   "execution_count": null,
   "id": "74bb6a42",
   "metadata": {},
   "outputs": [],
   "source": [
    "from dotenv import load_dotenv\n",
    "load_dotenv('.env')\n",
    "\n",
    "code_root = os.environ['CODE_ROOT']\n",
    "data_root = os.environ['DATA_ROOT']\n",
    "\n",
    "sys.path.insert(0, code_root)"
   ]
  },
  {
   "cell_type": "markdown",
   "id": "d5717100",
   "metadata": {},
   "source": [
    "### Configuration conecction to DB"
   ]
  },
  {
   "cell_type": "code",
   "execution_count": null,
   "id": "da01278a",
   "metadata": {},
   "outputs": [],
   "source": [
    "user = os.environ['DB_USER']\n",
    "password = os.environ['DB_PASSWORD']\n",
    "host = os.environ['DB_HOST']\n",
    "port = os.environ['DB_PORT']\n",
    "database = os.environ['DB_DATABASE']\n",
    "\n",
    "engine = create_engine(\"postgresql://{0}:{1}@{2}:{3}/{4}\".format(user, password, host, port, database))\n",
    "engine"
   ]
  },
  {
   "cell_type": "markdown",
   "id": "4f688f31",
   "metadata": {},
   "source": [
    "### Dates parameters"
   ]
  },
  {
   "cell_type": "code",
   "execution_count": null,
   "id": "cdd6f93f",
   "metadata": {},
   "outputs": [],
   "source": [
    "close_date = datetime(2022, 12, 31)"
   ]
  },
  {
   "cell_type": "markdown",
   "id": "60b3baa6",
   "metadata": {},
   "source": [
    "### Get CLTV data from DB"
   ]
  },
  {
   "cell_type": "code",
   "execution_count": null,
   "id": "3ae69d07",
   "metadata": {},
   "outputs": [],
   "source": [
    "query = (\n",
    "    f\"SELECT close_date as data_close_date_cltv, customer, customer_id, business_scope, sme_flag, cltv_decile, avg(cltv) as cltv \"\n",
    "    f\"FROM cltv.prediction \"\n",
    "    f\"WHERE close_date='{close_date}' \"\n",
    "    \"GROUP BY customer_id, customer, data_close_date_cltv, business_scope, sme_flag, cltv_decile\"\n",
    ")"
   ]
  },
  {
   "cell_type": "code",
   "execution_count": null,
   "id": "23a360ad",
   "metadata": {
    "scrolled": true
   },
   "outputs": [],
   "source": [
    "df_cltv = pd.read_sql(query, engine)"
   ]
  },
  {
   "cell_type": "code",
   "execution_count": null,
   "id": "a6c18f2e",
   "metadata": {},
   "outputs": [],
   "source": [
    "df_cltv.head()"
   ]
  },
  {
   "cell_type": "markdown",
   "id": "ede587da",
   "metadata": {},
   "source": [
    "### Save data - Local"
   ]
  },
  {
   "cell_type": "code",
   "execution_count": null,
   "id": "443f53f7",
   "metadata": {},
   "outputs": [],
   "source": [
    "path = \"~/name_your_file.csv\""
   ]
  },
  {
   "cell_type": "code",
   "execution_count": null,
   "id": "13d1c4e2",
   "metadata": {},
   "outputs": [],
   "source": [
    "df.to_csv(path)"
   ]
  },
  {
   "cell_type": "markdown",
   "id": "90bfde47",
   "metadata": {},
   "source": [
    "### Example how to use parquets"
   ]
  },
  {
   "cell_type": "code",
   "execution_count": null,
   "id": "addcd39e",
   "metadata": {},
   "outputs": [],
   "source": [
    "#df_base = pd.read_parquet(input_path)"
   ]
  },
  {
   "cell_type": "code",
   "execution_count": null,
   "id": "0b2b0f8c",
   "metadata": {},
   "outputs": [],
   "source": [
    "#df_base = df_base.to_parquet(output_path)"
   ]
  }
 ],
 "metadata": {
  "kernelspec": {
   "display_name": "Python 3 (ipykernel)",
   "language": "python",
   "name": "python3"
  },
  "language_info": {
   "codemirror_mode": {
    "name": "ipython",
    "version": 3
   },
   "file_extension": ".py",
   "mimetype": "text/x-python",
   "name": "python",
   "nbconvert_exporter": "python",
   "pygments_lexer": "ipython3",
   "version": "3.9.16"
  }
 },
 "nbformat": 4,
 "nbformat_minor": 5
}
